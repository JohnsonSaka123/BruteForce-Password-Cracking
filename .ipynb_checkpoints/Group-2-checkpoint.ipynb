{
 "cells": [
  {
   "cell_type": "markdown",
   "id": "83fbae17-099e-4a71-b1d3-128eb58b8ea1",
   "metadata": {},
   "source": [
    "# GROUP-2\n",
    "\n",
    "## Members\n",
    "#### 1.Nyarko Rudolf-11297285\n",
    "#### 2.Mensah Erskine - 11293368\n",
    "#### 3.Jacob Kofi Ababio Agyemang-Prempeh- 11136489\n",
    "#### 4.Johnson Saka - 11037486\n",
    "#### 5.Kuuku Ampah - 11259806\n",
    "#### 6.Theoford Nana Gyanfosu - 11303292\n",
    "#### 7.Osafo Jayden John Boamah-11252890\n",
    "#### 8.Beatrice Sophia Nhyira Yawson- 11151818\n",
    "#### 9.Ama Addae Montford - 11034645\n",
    "#### 10.Obed Sarkodie - 11041617\n"
   ]
  },
  {
   "cell_type": "markdown",
   "id": "088c760e-60d9-4718-ad3c-5ada5b7a4008",
   "metadata": {},
   "source": [
    "## Brute-Force Password Cracking Simulation\n",
    "\n",
    "This notebook illustrates the process of brute-force password cracking by simulating attempts to discover various password types:\n",
    "\n",
    "*   4-digit numeric codes\n",
    "*   6-digit numeric codes\n",
    "*   4-character alphanumeric passwords (case-sensitive)\n",
    "*   6-character alphanumeric passwords (case-sensitive)\n",
    "\n",
    "**For each scenario, we will:**\n",
    "\n",
    "*  Outline the methodology.\n",
    "*  Provide the Python code.\n",
    "*  Execute tests on 500 randomly generated codes.\n",
    "*  Visualize the distribution of cracking durations."
   ]
  },
  {
   "cell_type": "markdown",
   "id": "f482f674-526b-4579-89d7-7ac93a2a37ca",
   "metadata": {},
   "source": [
    "### Importing Libraries needed"
   ]
  },
  {
   "cell_type": "code",
   "execution_count": 1,
   "id": "882a223b-4fbd-482f-b0cf-bd366131e928",
   "metadata": {},
   "outputs": [],
   "source": [
    "import random\n",
    "import time\n",
    "import matplotlib.pyplot as plt\n",
    "import itertools\n",
    "import string\n",
    "\n",
    "%matplotlib inline"
   ]
  },
  {
   "cell_type": "markdown",
   "id": "52b8346a-2e70-4719-bd1a-99d81595fdd3",
   "metadata": {},
   "source": [
    "### 4-Digit PIN Brute-Force Cracking\n",
    "\n",
    "- The brute-force cracking of a 4-digit PIN is demonstrated by iterating through all 10,000 possibilities (\"0000\" to \"9999\").\n",
    "- The time taken to discover the correct PIN is recorded.\n",
    "\n",
    "#### This algorithm sequentially generates every 4-digit code from \"0000\" to \"9999\" and checks it against the target.\n"
   ]
  },
  {
   "cell_type": "code",
   "execution_count": 2,
   "id": "c11ff544-a35a-4c37-9e1d-a6c5f7799e22",
   "metadata": {},
   "outputs": [],
   "source": [
    "def crack_four_digit_pin(target_pin: str) -> float:\n",
    "  \n",
    "    time_start = time.perf_counter()\n",
    "    for num in range(10000):  # From 0000 to 9999\n",
    "        guess_code = str(num).zfill(4)\n",
    "        if guess_code == target_pin:\n",
    "            break\n",
    "    time_finish = time.perf_counter()\n",
    "    return time_finish - time_start\n",
    "\n",
    "\n"
   ]
  },
  {
   "cell_type": "markdown",
   "id": "109c62b1-81de-4d91-838d-e80a3704a026",
   "metadata": {},
   "source": [
    "#### Quick test with a known PIN:\n"
   ]
  },
  {
   "cell_type": "code",
   "execution_count": 3,
   "id": "40fd42c2-2c98-4fc1-bcd9-99b4be36bad4",
   "metadata": {},
   "outputs": [
    {
     "name": "stdout",
     "output_type": "stream",
     "text": [
      "Time to crack 234: 0.004613 seconds\n"
     ]
    }
   ],
   "source": [
    "sample_pin = \"234\"\n",
    "print(f\"Time to crack {sample_pin}: {crack_four_digit_pin(sample_pin):.6f} seconds\")"
   ]
  },
  {
   "cell_type": "code",
   "execution_count": 4,
   "id": "ff2af919-4133-4d18-925f-a0feec4780c7",
   "metadata": {},
   "outputs": [
    {
     "name": "stdout",
     "output_type": "stream",
     "text": [
      "Time to crack 5234: 0.002847 seconds\n"
     ]
    }
   ],
   "source": [
    "sample_pin = \"5234\"\n",
    "print(f\"Time to crack {sample_pin}: {crack_four_digit_pin(sample_pin):.6f} seconds\")"
   ]
  },
  {
   "cell_type": "markdown",
   "id": "97aac69a-f85f-41dd-a1e2-10ee768a9561",
   "metadata": {},
   "source": [
    "#### Task: Generate 500 random 4-digit PINs and record the cracking times"
   ]
  },
  {
   "cell_type": "code",
   "execution_count": 6,
   "id": "ddefa465-1272-49be-924d-fda07af8c324",
   "metadata": {},
   "outputs": [],
   "source": [
    "# Generate 500 random 4-digit PINs and record the cracking times\n",
    "time_results_pin4 = []\n",
    "random_pin_list = [str(random.randint(0, 9999)).zfill(4) for _ in range(500)]\n",
    "\n",
    "for pin_code in random_pin_list:\n",
    "    duration = crack_four_digit_pin(pin_code)\n",
    "    time_results_pin4.append(duration)\n",
    "\n",
    "\n"
   ]
  },
  {
   "cell_type": "markdown",
   "id": "535b91a8-8953-44bb-980d-dcf4586baf1f",
   "metadata": {},
   "source": [
    "#### Graph"
   ]
  },
  {
   "cell_type": "code",
   "execution_count": 7,
   "id": "400bb4f2-c034-462d-a093-1b362c7e0dd0",
   "metadata": {},
   "outputs": [
    {
     "data": {
      "image/png": "[encoded data removed]",
      "text/plain": [
       "<Figure size 800x400 with 1 Axes>"
      ]
     },
     "metadata": {},
     "output_type": "display_data"
    }
   ],
   "source": [
    "\n",
    "plt.figure(figsize=(8, 4))\n",
    "plt.hist(time_results_pin4, bins=30, edgecolor='black')\n",
    "plt.xlabel(\"Crack Time (seconds)\")\n",
    "plt.ylabel(\"Frequency\")\n",
    "plt.title(\"4-Digit PIN Cracking Times (500 Trials)\")\n",
    "plt.show()"
   ]
  },
  {
   "cell_type": "markdown",
   "id": "da762d78-f657-42f6-93c9-a8b4beb74bb5",
   "metadata": {},
   "source": [
    "### 6-Digit PIN Brute-Force Cracking\n",
    "- This algorithm exhaustively searches all 6-digit codes within the range \"000000\" to \"999999\"."
   ]
  },
  {
   "cell_type": "code",
   "execution_count": 8,
   "id": "9add732d-6085-4c96-a273-19016420cbe0",
   "metadata": {},
   "outputs": [],
   "source": [
    "def crack_six_digit_pin(target_code: str) -> float:\n",
    "  \n",
    "    start_moment = time.perf_counter()\n",
    "    for num in range(1000000):  # From 000000 to 999999\n",
    "        code_guess = str(num).zfill(6)\n",
    "        if code_guess == target_code:\n",
    "            break\n",
    "    end_moment = time.perf_counter()\n",
    "    return end_moment - start_moment\n",
    "\n",
    "\n"
   ]
  },
  {
   "cell_type": "markdown",
   "id": "2f9c327f-76c1-47ad-8761-c538464f2ceb",
   "metadata": {},
   "source": [
    "##### Quick test"
   ]
  },
  {
   "cell_type": "code",
   "execution_count": 9,
   "id": "1c266996-7430-4d87-bda6-12d4ec14fc29",
   "metadata": {},
   "outputs": [
    {
     "name": "stdout",
     "output_type": "stream",
     "text": [
      "Time to crack 654321: 0.364909 seconds\n"
     ]
    }
   ],
   "source": [
    "\n",
    "sample_pin6 = \"654321\"\n",
    "print(f\"Time to crack {sample_pin6}: {crack_six_digit_pin(sample_pin6):.6f} seconds\")"
   ]
  },
  {
   "cell_type": "markdown",
   "id": "3eb0927d-3aff-444c-ae7a-bdbee7794ff1",
   "metadata": {},
   "source": [
    "### Task\n",
    "\n",
    "- **Generate 500 random 6-digit PINs and measure brute-force cracking times.**\n",
    "- **Plot the distribution of cracking times.**"
   ]
  },
  {
   "cell_type": "code",
   "execution_count": null,
   "id": "3cd2ca68-6460-4198-95d5-f0f85137b163",
   "metadata": {},
   "outputs": [],
   "source": [
    "time_results_pin6 = []\n",
    "random_pin6_list = [str(random.randint(0, 999999)).zfill(6) for _ in range(500)]\n",
    "\n",
    "for pin_code in random_pin6_list:\n",
    "    duration = crack_six_digit_pin(pin_code)\n",
    "    time_results_pin6.append(duration)"
   ]
  },
  {
   "cell_type": "markdown",
   "id": "0cc199f6-8460-4b9e-94b6-0715417ec8fc",
   "metadata": {},
   "source": [
    "#### Graph"
   ]
  },
  {
   "cell_type": "code",
   "execution_count": null,
   "id": "8c8eed3c-4d42-49f4-bdd1-da8a9f0419c0",
   "metadata": {},
   "outputs": [],
   "source": [
    "plt.figure(figsize=(8, 4))\n",
    "plt.hist(time_results_pin6, bins=30, edgecolor='black')\n",
    "plt.xlabel(\"Crack Time (seconds)\")\n",
    "plt.ylabel(\"Frequency\")\n",
    "plt.title(\"6-Digit PIN Cracking Times (500 Trials)\")\n",
    "plt.show()"
   ]
  },
  {
   "cell_type": "markdown",
   "id": "2e949243-fdd8-46da-8111-7c0aba64c036",
   "metadata": {},
   "source": [
    "###  4-Character Alphanumeric Brute-Force Cracking\n",
    "\n",
    "- This generates every possible 4-character string using a 62-character set (26 uppercase + 26 lowercase + 10 digits).\n"
   ]
  },
  {
   "cell_type": "code",
   "execution_count": null,
   "id": "5f1655b5-2bd9-4ed8-8941-4c7d70505600",
   "metadata": {},
   "outputs": [],
   "source": [
    "def crack_alpha4(target_str: str) -> float:\n",
    "    \n",
    "    charset = string.ascii_letters + string.digits\n",
    "    initial_time = time.perf_counter()\n",
    "    for combo in itertools.product(charset, repeat=4):\n",
    "        guess_str = ''.join(combo)\n",
    "        if guess_str == target_str:\n",
    "            break\n",
    "    final_time = time.perf_counter()\n",
    "    return final_time - initial_time\n",
    "\n",
    "\n"
   ]
  },
  {
   "cell_type": "markdown",
   "id": "d8b87d1a-f2f3-42c2-9a59-7c4c88e1046c",
   "metadata": {},
   "source": [
    "##### Quick test with a known alphanumeric code:\n"
   ]
  },
  {
   "cell_type": "code",
   "execution_count": null,
   "id": "63730e2a-496b-4ec6-9438-ea2146365527",
   "metadata": {},
   "outputs": [],
   "source": [
    "sample_alpha4 = \"aB3d\"\n",
    "print(f\"Time to crack {sample_alpha4}: {crack_alpha4(sample_alpha4):.6f} seconds\")"
   ]
  },
  {
   "cell_type": "markdown",
   "id": "83fe837a-e4b3-4d3a-ae55-9ae68ef22893",
   "metadata": {},
   "source": [
    "### Task:\n",
    "- **Function to generate a random alphanumeric code of a given length**"
   ]
  },
  {
   "cell_type": "code",
   "execution_count": null,
   "id": "fd22c85d-751f-4b98-8b47-e64501944e1e",
   "metadata": {},
   "outputs": [],
   "source": [
    "def gen_random_alpha_code(length: int) -> str:\n",
    "    charset = string.ascii_letters + string.digits\n",
    "    return ''.join(random.choice(charset) for _ in range(length))\n",
    "\n",
    "# Generate 500 random 4-character alphanumeric codes and record the times\n",
    "time_results_alpha4 = []\n",
    "random_alpha4_list = [gen_random_alpha_code(4) for _ in range(500)]\n",
    "\n",
    "for code_str in random_alpha4_list:\n",
    "    duration = crack_alpha4(code_str)\n",
    "    time_results_alpha4.append(duration)"
   ]
  },
  {
   "cell_type": "markdown",
   "id": "354dd8d7-55cb-47ca-9432-0887315556db",
   "metadata": {},
   "source": [
    "#### Graph"
   ]
  },
  {
   "cell_type": "code",
   "execution_count": null,
   "id": "af57ac38-4c2c-4457-a4de-21cbedab3448",
   "metadata": {},
   "outputs": [],
   "source": [
    "plt.figure(figsize=(8, 4))\n",
    "plt.hist(time_results_alpha4, bins=30, edgecolor='black')\n",
    "plt.xlabel(\"Crack Time (seconds)\")\n",
    "plt.ylabel(\"Frequency\")\n",
    "plt.title(\"4-Character Alphanumeric Cracking Times (500 Trials)\")\n",
    "plt.show()"
   ]
  },
  {
   "cell_type": "markdown",
   "id": "1b98213f-280b-4a63-8392-0ace97fc5052",
   "metadata": {},
   "source": [
    "### 6-Character Alphanumeric Brute-Force Cracking\n",
    "\n",
    "- Because the search space (62^6) is enormous, we include a maximum number of trials (max_trials)\n",
    "to prevent excessive computation during demonstration.\n"
   ]
  },
  {
   "cell_type": "code",
   "execution_count": null,
   "id": "88718142-9ad2-4ba0-ba35-597789e1a15a",
   "metadata": {},
   "outputs": [],
   "source": [
    "def crack_alpha6(target_str: str, max_trials: int = 1000000) -> float:\n",
    "\n",
    "    charset = string.ascii_letters + string.digits\n",
    "    start_instant = time.perf_counter()\n",
    "    trial_count = 0\n",
    "    for combo in itertools.product(charset, repeat=6):\n",
    "        trial_count += 1\n",
    "        guess_str = ''.join(combo)\n",
    "        if guess_str == target_str or trial_count >= max_trials:\n",
    "            break\n",
    "    end_instant = time.perf_counter()\n",
    "    return end_instant - start_instant\n",
    "\n",
    "\n"
   ]
  },
  {
   "cell_type": "markdown",
   "id": "11d52648-a4b8-4eab-a654-3c5d5c5e2ca8",
   "metadata": {},
   "source": [
    "##### Quick test with a sample alphanumeric 6-character code (using the trial cap):\n"
   ]
  },
  {
   "cell_type": "code",
   "execution_count": null,
   "id": "9ae7ba1d-492d-4b08-8d53-2499478f8b66",
   "metadata": {},
   "outputs": [],
   "source": [
    "sample_alpha6 = \"Ab3dE1\"\n",
    "print(f\"Time to crack (attempt) {sample_alpha6}: {crack_alpha6(sample_alpha6):.6f} seconds\")"
   ]
  },
  {
   "cell_type": "markdown",
   "id": "03f8e669-3a6c-418b-955b-dfb46a33a310",
   "metadata": {},
   "source": [
    "### Task: \n",
    "-  Generate 500 random 6-character alphanumeric codes and record the cracking times (with cap)"
   ]
  },
  {
   "cell_type": "code",
   "execution_count": null,
   "id": "6716222e-30d1-434f-9874-972d4e70009d",
   "metadata": {},
   "outputs": [],
   "source": [
    "time_results_alpha6 = []\n",
    "random_alpha6_list = [gen_random_alpha_code(6) for _ in range(500)]\n",
    "\n",
    "for code_str in random_alpha6_list:\n",
    "    duration = crack_alpha6(code_str, max_trials=1000000)\n",
    "    time_results_alpha6.append(duration)\n"
   ]
  },
  {
   "cell_type": "markdown",
   "id": "0c68cdc0-8120-40c8-a3c8-82e58cc82196",
   "metadata": {},
   "source": [
    "#### Graph"
   ]
  },
  {
   "cell_type": "code",
   "execution_count": null,
   "id": "81d0c203-b9c3-46ba-830e-d6305e58b383",
   "metadata": {},
   "outputs": [],
   "source": [
    "\n",
    "plt.figure(figsize=(8, 4))\n",
    "plt.hist(time_results_alpha6, bins=30, edgecolor='black')\n",
    "plt.xlabel(\"Crack Time (seconds)\")\n",
    "plt.ylabel(\"Frequency\")\n",
    "plt.title(\"6-Character Alphanumeric Cracking Times (500 Trials, capped at 1e6 trials)\")\n",
    "plt.show()"
   ]
  },
  {
   "cell_type": "markdown",
   "id": "23c72b98-9ee2-4fcb-8e39-eb88f4d7e70e",
   "metadata": {},
   "source": [
    "## Conclusion\n",
    "\n",
    "**This study examined the computational cost of brute-force cracking for various code types:**\n",
    "- 4-digit PINs **(10,000 possibilities)** Time:\n",
    "- 6-digit PINs **(1,000,000 possibilities)**\n",
    "- 4-character alphanumeric codes **(14.7 million combinations)**\n",
    "- 6-character alphanumeric codes **(capped search of 62^6 possibilities)**.\n",
    "                                  \n",
    "**As expected, search time increased dramatically with the search space size, highlighting the vulnerability of simple codes to brute-force attacks.\n",
    " These results emphasize the need for strong passwords and robust cryptographic practices.**\n"
   ]
  },
  {
   "cell_type": "code",
   "execution_count": null,
   "id": "6cf43e2e-09b3-4f12-82ab-56a7baef9f3b",
   "metadata": {},
   "outputs": [],
   "source": []
  },
  {
   "cell_type": "code",
   "execution_count": null,
   "id": "2d9f7982-1f6f-4d18-b315-1c7c76f3ec20",
   "metadata": {},
   "outputs": [],
   "source": []
  }
 ],
 "metadata": {
  "kernelspec": {
   "display_name": "Python 3 (ipykernel)",
   "language": "python",
   "name": "python3"
  },
  "language_info": {
   "codemirror_mode": {
    "name": "ipython",
    "version": 3
   },
   "file_extension": ".py",
   "mimetype": "text/x-python",
   "name": "python",
   "nbconvert_exporter": "python",
   "pygments_lexer": "ipython3",
   "version": "3.12.8"
  }
 },
 "nbformat": 4,
 "nbformat_minor": 5
}
